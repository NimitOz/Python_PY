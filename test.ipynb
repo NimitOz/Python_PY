{
 "cells": [
  {
   "cell_type": "code",
   "execution_count": 1,
   "metadata": {},
   "outputs": [
    {
     "name": "stdout",
     "output_type": "stream",
     "text": [
      "[1, 2, 3, 4, 5, 6, 7, 8, 9, 10, 11, 12, 13, 14, 15, 16, 17, 18, 19, 20]\n"
     ]
    }
   ],
   "source": [
    "lst = list(range(1, 21));\n",
    "print(lst);"
   ]
  },
  {
   "cell_type": "code",
   "execution_count": 2,
   "metadata": {},
   "outputs": [
    {
     "name": "stdout",
     "output_type": "stream",
     "text": [
      "the first elemetn: 1\n",
      "the last elemtn:: 20\n",
      "the last elemetn:: 20\n",
      "the middle element:: 11\n"
     ]
    }
   ],
   "source": [
    "print(f\"the first elemetn: {lst[0]}\");\n",
    "print(f\"the last elemtn:: {lst[len(lst)-1]}\")\n",
    "print(f\"the last elemetn:: {lst[-1]}\");\n",
    "print(f\"the middle element:: {lst[len(lst) // 2]}\")"
   ]
  },
  {
   "cell_type": "code",
   "execution_count": 3,
   "metadata": {},
   "outputs": [
    {
     "name": "stdout",
     "output_type": "stream",
     "text": [
      "the first five elemtns:: [1, 2, 3, 4, 5]\n",
      "the last five element:: [16, 17, 18, 19, 20]\n",
      "element from 5 to 15:: [6, 7, 8, 9, 10, 11, 12, 13, 14, 15, 16]\n"
     ]
    }
   ],
   "source": [
    "print(f\"the first five elemtns:: {lst[0:5]}\");\n",
    "print(f\"the last five element:: {lst[-5:]}\");\n",
    "print(f\"element from 5 to 15:: {lst[5:16]}\");"
   ]
  },
  {
   "cell_type": "code",
   "execution_count": 4,
   "metadata": {},
   "outputs": [
    {
     "name": "stdout",
     "output_type": "stream",
     "text": [
      "[1, 4, 9, 16, 25, 36, 49, 64, 81, 100]\n"
     ]
    }
   ],
   "source": [
    "newList = [x**2 for x in range(1, 11)];\n",
    "print(newList)"
   ]
  },
  {
   "cell_type": "code",
   "execution_count": 42,
   "metadata": {},
   "outputs": [
    {
     "name": "stdout",
     "output_type": "stream",
     "text": [
      "[0, 2, 4, 6, 8, 10]\n",
      "[0, 2, 4, 6, 8, 10]\n"
     ]
    }
   ],
   "source": [
    "evenList = [x for x in range(0,11) if x%2 == 0]\n",
    "print(evenList)\n",
    "evenList.sort();\n",
    "print(evenList)"
   ]
  },
  {
   "cell_type": "code",
   "execution_count": null,
   "metadata": {},
   "outputs": [
    {
     "name": "stdout",
     "output_type": "stream",
     "text": [
      "original random list:: [7, 15, 3, 11, 19, 8, 13, 9, 7, 15, 16, 14, 15, 12, 2]\n",
      "sorted in sacending ordrer:: None\n"
     ]
    }
   ],
   "source": []
  }
 ],
 "metadata": {
  "kernelspec": {
   "display_name": "Python 3",
   "language": "python",
   "name": "python3"
  },
  "language_info": {
   "codemirror_mode": {
    "name": "ipython",
    "version": 3
   },
   "file_extension": ".py",
   "mimetype": "text/x-python",
   "name": "python",
   "nbconvert_exporter": "python",
   "pygments_lexer": "ipython3",
   "version": "3.12.0"
  }
 },
 "nbformat": 4,
 "nbformat_minor": 2
}
