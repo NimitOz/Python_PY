{
 "cells": [
  {
   "cell_type": "code",
   "execution_count": null,
   "metadata": {},
   "outputs": [
    {
     "name": "stdout",
     "output_type": "stream",
     "text": [
      "2.23606797749979\n",
      "5\n",
      "3\n",
      "0\n",
      "1\n",
      "2\n"
     ]
    }
   ],
   "source": [
    "x = 5\n",
    "print(5 ** 0.5)\n",
    "# print(int(5.9))\n",
    "print(int(x ** 0.5) + 1)\n",
    "for i in range(0, int(x ** 0.5) + 1):\n",
    "    print(i);"
   ]
  },
  {
   "cell_type": "code",
   "execution_count": 14,
   "metadata": {},
   "outputs": [
    {
     "name": "stdout",
     "output_type": "stream",
     "text": [
      "5 is a prime no.\n"
     ]
    }
   ],
   "source": [
    "number = int(input(\"Enter a number to check for prime:: \"))\n",
    "isPrime = True\n",
    "if number <=1:\n",
    "    isPrime = False;\n",
    "for i in range(2, int(number ** 0.5) + 1):\n",
    "    if(number % i == 0):\n",
    "        isPrime = False;\n",
    "if isPrime:\n",
    "    print(f\"{number} is a prime no.\")\n",
    "else:\n",
    "    print(f\"{number} is not a prime\")\n"
   ]
  },
  {
   "cell_type": "code",
   "execution_count": 29,
   "metadata": {},
   "outputs": [
    {
     "name": "stdout",
     "output_type": "stream",
     "text": [
      "0\n",
      "1\n",
      "1\n",
      "2\n",
      "3\n",
      "5\n",
      "8\n",
      "13\n"
     ]
    }
   ],
   "source": [
    "x = int(input(\"Enter no. of fibonacci numbers to be preinter::\"))\n",
    "count = 0\n",
    "a = 0; b = 1\n",
    "while(count < x):\n",
    "    print(a)\n",
    "    temp = a\n",
    "    a = b\n",
    "    b = temp + b\n",
    "    count += 1;\n"
   ]
  },
  {
   "cell_type": "code",
   "execution_count": 5,
   "metadata": {},
   "outputs": [
    {
     "name": "stdout",
     "output_type": "stream",
     "text": [
      "['nimti', 'oza', 324234, 345.3434, True, 0, 1]\n",
      "<class 'list'>\n",
      "True\n",
      "nimti\n",
      "7\n"
     ]
    }
   ],
   "source": [
    "list = [\"nimti\", \"oza\", 324234, 345.3434, True, 0, 1]\n",
    "print(list)\n",
    "print(type(list))\n",
    "print(list[-3])\n",
    "print(list[0])\n",
    "print(len(list))"
   ]
  },
  {
   "cell_type": "code",
   "execution_count": null,
   "metadata": {},
   "outputs": [],
   "source": []
  }
 ],
 "metadata": {
  "kernelspec": {
   "display_name": "Python 3",
   "language": "python",
   "name": "python3"
  },
  "language_info": {
   "codemirror_mode": {
    "name": "ipython",
    "version": 3
   },
   "file_extension": ".py",
   "mimetype": "text/x-python",
   "name": "python",
   "nbconvert_exporter": "python",
   "pygments_lexer": "ipython3",
   "version": "3.12.0"
  }
 },
 "nbformat": 4,
 "nbformat_minor": 2
}
